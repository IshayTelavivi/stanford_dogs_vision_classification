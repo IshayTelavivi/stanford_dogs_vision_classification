{
 "cells": [
  {
   "cell_type": "markdown",
   "metadata": {},
   "source": [
    "# Dogs Image Classifcation\n",
    "**The purposes of this notebook are:**\n",
    "\n",
    "- Using a RESNET pre-trained net\n",
    "- Applying various tools (augmentaiton, early stoppng etc.)"
   ]
  },
  {
   "cell_type": "code",
   "execution_count": 1,
   "metadata": {},
   "outputs": [],
   "source": [
    "import neptune\n",
    "\n",
    "import torch\n",
    "import torch.nn as nn\n",
    "import torch.optim as optim\n",
    "import torch.nn.functional as F \n",
    "\n",
    "# torchvision: popular datasets, model architectures, and common image transformations for computer vision.\n",
    "import torchvision\n",
    "\n",
    "from torch.utils.data import Dataset, DataLoader\n",
    "from torch.utils.data.sampler import SubsetRandomSampler\n",
    "import torchvision.transforms as T\n",
    "from torchvision.datasets import ImageFolder\n",
    "from torchvision import models\n",
    "from torchsummary import summary\n",
    "\n",
    "from sklearn.model_selection import train_test_split\n",
    "\n",
    "import glob\n",
    "import os.path as osp\n",
    "import os\n",
    "import numpy as np\n",
    "from PIL import Image # to read images\n",
    "import ntpath\n",
    "# import pandas as pd\n",
    "\n",
    "# import xml.etree.ElementTree as ET # for parsing XML\n",
    "import matplotlib.pyplot as plt # to show images\n",
    "import matplotlib.patches as patches\n",
    "from tqdm import tqdm_notebook as tqdm\n",
    "import time\n",
    "%matplotlib inline"
   ]
  },
  {
   "cell_type": "code",
   "execution_count": 2,
   "metadata": {},
   "outputs": [
    {
     "data": {
      "text/plain": [
       "Project(MM-IT-DOGS/dogs-project)"
      ]
     },
     "execution_count": 2,
     "metadata": {},
     "output_type": "execute_result"
    }
   ],
   "source": [
    "neptune.init('MM-IT-DOGS/dogs-project')"
   ]
  },
  {
   "cell_type": "code",
   "execution_count": 133,
   "metadata": {},
   "outputs": [],
   "source": [
    "PARAMS = {'random_seed' : 42,\n",
    "          'batch_size' : 128,\n",
    "          'learning_rate': 0.001,\n",
    "          'momentum': 0.9,\n",
    "          'n_epoch': 50,\n",
    "          'optimizer': \"adam\",\n",
    "          'fc_dropout': 0.4}"
   ]
  },
  {
   "cell_type": "code",
   "execution_count": 134,
   "metadata": {},
   "outputs": [
    {
     "name": "stdout",
     "output_type": "stream",
     "text": [
      "https://ui.neptune.ai/MM-IT-DOGS/dogs-project/e/SAN-75\n"
     ]
    },
    {
     "data": {
      "text/plain": [
       "Experiment(SAN-75)"
      ]
     },
     "execution_count": 134,
     "metadata": {},
     "output_type": "execute_result"
    }
   ],
   "source": [
    "neptune.create_experiment(name='resnet_bs_256', \n",
    "                          params=PARAMS,\n",
    "                          tags=['gcp', 'classification', 'adam', 'resnet', 'fixed_weights', 'lr_decay'],\n",
    "                          description='Lower lr')"
   ]
  },
  {
   "cell_type": "code",
   "execution_count": 135,
   "metadata": {},
   "outputs": [],
   "source": [
    "BASE_PATH = \"/home/ishay_telavivi/data\"\n",
    "#BASE_PATH = \"/home/ishay/Documents/MDLI/dogs/data\" #Ishay\n",
    "#BASE_PATH = \"g:\\\\My Drive\\\\AI\\\\MDLI #3 2019\\\\Projects\\\\dogs\" #Michael\n",
    "#IMGS_PATH = BASE_PATH + \"\\\\Data\\\\Images\\\\\" #Michael\n",
    "#ANNTN_PATH = BASE_PATH + \"\\\\Data\\\\Annotation\\\\\" #Michael"
   ]
  },
  {
   "cell_type": "code",
   "execution_count": 136,
   "metadata": {},
   "outputs": [],
   "source": [
    "CHECKPOINTS_DIR = '/home/ishay_telavivi/artifacts'"
   ]
  },
  {
   "cell_type": "markdown",
   "metadata": {},
   "source": [
    "## Examine directory structure and content"
   ]
  },
  {
   "cell_type": "code",
   "execution_count": 137,
   "metadata": {},
   "outputs": [
    {
     "name": "stdout",
     "output_type": "stream",
     "text": [
      "['Images', 'Annotation']\n"
     ]
    }
   ],
   "source": [
    "print(os.listdir(BASE_PATH))"
   ]
  },
  {
   "cell_type": "markdown",
   "metadata": {},
   "source": [
    "**Images**"
   ]
  },
  {
   "cell_type": "code",
   "execution_count": 138,
   "metadata": {},
   "outputs": [
    {
     "name": "stdout",
     "output_type": "stream",
     "text": [
      "Number of breeds: 120\n"
     ]
    }
   ],
   "source": [
    "IMGS_PATH = BASE_PATH + \"/Images/\" #Ishay\n",
    "#breed_list = os.listdir(BASE_PATH + IMGS_PATH)[:5]\n",
    "\n",
    "breed_list = os.listdir(IMGS_PATH)\n",
    "\n",
    "print(\"Number of breeds:\",len(breed_list))"
   ]
  },
  {
   "cell_type": "markdown",
   "metadata": {},
   "source": [
    "## Create a Dataset and DataLoader Classes"
   ]
  },
  {
   "cell_type": "markdown",
   "metadata": {},
   "source": [
    "The following code is based on the following links:\n",
    "\n",
    "- https://pytorch.org/docs/stable/torchvision/datasets.html\n",
    "- https://stackoverflow.com/questions/50544730/how-do-i-split-a-custom-dataset-into-training-and-test-datasets\n",
    "- https://discuss.pytorch.org/t/how-to-divide-dataset-into-training-validation-and-testing/38764/5"
   ]
  },
  {
   "cell_type": "code",
   "execution_count": 139,
   "metadata": {},
   "outputs": [],
   "source": [
    "IMAGE_WIDTH = 224\n",
    "IMAGE_LENGTH = 224"
   ]
  },
  {
   "cell_type": "code",
   "execution_count": 140,
   "metadata": {},
   "outputs": [],
   "source": [
    "image_size_before_crop = 280"
   ]
  },
  {
   "cell_type": "code",
   "execution_count": 141,
   "metadata": {},
   "outputs": [],
   "source": [
    "# Must at least transform to tensor\n",
    "# We allow different transformation per dataset. For example we might want to crop the training, but leave the\n",
    "# eval and test sets uncropped\n",
    "transform = {\"train\": T.Compose([    \n",
    "                T.Resize((image_size_before_crop,image_size_before_crop)),\n",
    "                T.RandomCrop(IMAGE_WIDTH),\n",
    "                T.RandomHorizontalFlip(),\n",
    "                T.Resize((IMAGE_WIDTH,IMAGE_LENGTH)),\n",
    "                T.ToTensor(),\n",
    "                T.Normalize((0.4766, 0.4525, 0.3917), (0.2613, 0.2559, 0.2605)),\n",
    "                ]),\n",
    "             \"eval\": T.Compose([ \n",
    "                T.Resize((IMAGE_WIDTH,IMAGE_LENGTH)),\n",
    "                T.ToTensor(),\n",
    "                T.Normalize((0.4766, 0.4525, 0.3917), (0.2613, 0.2559, 0.2605)),\n",
    "                ]),\n",
    "             \"test\": T.Compose([ \n",
    "                T.Resize((IMAGE_WIDTH,IMAGE_LENGTH)),\n",
    "                T.ToTensor(),\n",
    "                 T.Normalize((0.4766, 0.4525, 0.3917), (0.2613, 0.2559, 0.2605)),\n",
    "                ])}"
   ]
  },
  {
   "cell_type": "code",
   "execution_count": 142,
   "metadata": {},
   "outputs": [],
   "source": [
    "# If we want to create datasets with different transformations for train/eval/test, we must create 3 identical\n",
    "# sets, and then select the specific indices from each per data\n",
    "train_data_set = ImageFolder(IMGS_PATH,transform=transform[\"train\"])\n",
    "eval_data_set = ImageFolder(IMGS_PATH,transform=transform[\"eval\"])\n",
    "test_data_set = ImageFolder(IMGS_PATH,transform=transform[\"test\"])"
   ]
  },
  {
   "cell_type": "code",
   "execution_count": 143,
   "metadata": {},
   "outputs": [],
   "source": [
    "# Now split the dataset"
   ]
  },
  {
   "cell_type": "code",
   "execution_count": 144,
   "metadata": {},
   "outputs": [
    {
     "data": {
      "text/plain": [
       "20580"
      ]
     },
     "execution_count": 144,
     "metadata": {},
     "output_type": "execute_result"
    }
   ],
   "source": [
    "dataset_size = len(train_data_set) # This is not only the train as this phase, but the whole data.\n",
    "dataset_size"
   ]
  },
  {
   "cell_type": "code",
   "execution_count": 145,
   "metadata": {},
   "outputs": [],
   "source": [
    "indices = list(range(dataset_size))"
   ]
  },
  {
   "cell_type": "code",
   "execution_count": 146,
   "metadata": {},
   "outputs": [],
   "source": [
    "# Split the data like: {train: 0.7, eval: 0.2, test: 0.1}\n",
    "train_split = 0.7\n",
    "eval_split = 0.9 # (0.7 + 0.2)\n",
    "shuffle_dataset = True"
   ]
  },
  {
   "cell_type": "code",
   "execution_count": 147,
   "metadata": {},
   "outputs": [
    {
     "name": "stdout",
     "output_type": "stream",
     "text": [
      "14405 18522\n"
     ]
    }
   ],
   "source": [
    "# Set the indices for split\n",
    "split1 = int(np.floor(train_split * dataset_size))\n",
    "split2 = int(np.floor(eval_split * dataset_size))\n",
    "print(split1, split2)"
   ]
  },
  {
   "cell_type": "code",
   "execution_count": 148,
   "metadata": {},
   "outputs": [],
   "source": [
    "if shuffle_dataset :\n",
    "    np.random.seed(PARAMS[\"random_seed\"])\n",
    "    np.random.shuffle(indices)"
   ]
  },
  {
   "cell_type": "code",
   "execution_count": 149,
   "metadata": {},
   "outputs": [],
   "source": [
    "train_indices, eval_indices, test_indices = indices[:split1], indices[split1:split2], indices[split2:]"
   ]
  },
  {
   "cell_type": "code",
   "execution_count": 150,
   "metadata": {},
   "outputs": [
    {
     "name": "stdout",
     "output_type": "stream",
     "text": [
      "14405 4117 2058\n"
     ]
    }
   ],
   "source": [
    "print(len(train_indices), len(eval_indices), len(test_indices))"
   ]
  },
  {
   "cell_type": "code",
   "execution_count": 151,
   "metadata": {},
   "outputs": [],
   "source": [
    "# Creating PT data samplers and loaders:\n",
    "train_sampler = SubsetRandomSampler(train_indices)\n",
    "eval_sampler = SubsetRandomSampler(eval_indices)\n",
    "test_sampler = SubsetRandomSampler(test_indices)"
   ]
  },
  {
   "cell_type": "code",
   "execution_count": 152,
   "metadata": {},
   "outputs": [],
   "source": [
    "# Create the loaders\n",
    "train_loader = DataLoader(train_data_set, batch_size=PARAMS[\"batch_size\"], \n",
    "                                           sampler=train_sampler)\n",
    "eval_loader = DataLoader(eval_data_set, batch_size=PARAMS[\"batch_size\"],\n",
    "                                                sampler=eval_sampler)\n",
    "test_loader = DataLoader(test_data_set, batch_size=1,\n",
    "                                                sampler=test_sampler)"
   ]
  },
  {
   "cell_type": "markdown",
   "metadata": {},
   "source": [
    "## Use Pre-Trained Net"
   ]
  },
  {
   "cell_type": "code",
   "execution_count": 153,
   "metadata": {},
   "outputs": [
    {
     "name": "stdout",
     "output_type": "stream",
     "text": [
      "cuda\n"
     ]
    }
   ],
   "source": [
    "# Use GPU if available, otherwise stick with cpu\n",
    "use_cuda = torch.cuda.is_available()\n",
    "torch.manual_seed(123)\n",
    "device = torch.device(\"cuda\" if use_cuda else \"cpu\")\n",
    "print(device)"
   ]
  },
  {
   "cell_type": "code",
   "execution_count": 154,
   "metadata": {},
   "outputs": [],
   "source": [
    "pretrained_model = models.resnet50(pretrained=True)"
   ]
  },
  {
   "cell_type": "code",
   "execution_count": 155,
   "metadata": {},
   "outputs": [],
   "source": [
    "# Here, we need to freeze all the network except the final layer. We need to set requires_grad == False to \n",
    "# freeze the parameters so that the gradients are not computed in backward()\n",
    "for param in pretrained_model.parameters():\n",
    "    param.requires_grad = False"
   ]
  },
  {
   "cell_type": "code",
   "execution_count": 156,
   "metadata": {},
   "outputs": [],
   "source": [
    "# Parameters of newly constructed modules have requires_grad=True by default\n",
    "num_ftrs = pretrained_model.fc.in_features"
   ]
  },
  {
   "cell_type": "code",
   "execution_count": 157,
   "metadata": {},
   "outputs": [
    {
     "data": {
      "text/plain": [
       "2048"
      ]
     },
     "execution_count": 157,
     "metadata": {},
     "output_type": "execute_result"
    }
   ],
   "source": [
    "num_ftrs"
   ]
  },
  {
   "cell_type": "code",
   "execution_count": 158,
   "metadata": {},
   "outputs": [
    {
     "data": {
      "text/plain": [
       "1000"
      ]
     },
     "execution_count": 158,
     "metadata": {},
     "output_type": "execute_result"
    }
   ],
   "source": [
    "# Make sure that this is the final layer (that it output 1000 size tensor)\n",
    "pretrained_model.fc.out_features"
   ]
  },
  {
   "cell_type": "code",
   "execution_count": 159,
   "metadata": {},
   "outputs": [],
   "source": [
    "# New we change the size of this last layer to output 120 size tensor\n",
    "pretrained_model.fc = nn.Linear(num_ftrs, 120)"
   ]
  },
  {
   "cell_type": "code",
   "execution_count": null,
   "metadata": {},
   "outputs": [],
   "source": []
  },
  {
   "cell_type": "code",
   "execution_count": 160,
   "metadata": {},
   "outputs": [],
   "source": [
    "model = pretrained_model.to(device)"
   ]
  },
  {
   "cell_type": "code",
   "execution_count": 161,
   "metadata": {},
   "outputs": [
    {
     "name": "stdout",
     "output_type": "stream",
     "text": [
      "------------------------------------------------------------------------------------------\n",
      "Layer (type:depth-idx)                   Output Shape              Param #\n",
      "==========================================================================================\n",
      "├─Conv2d: 1-1                            [-1, 64, 112, 112]        (9,408)\n",
      "├─BatchNorm2d: 1-2                       [-1, 64, 112, 112]        (128)\n",
      "├─ReLU: 1-3                              [-1, 64, 112, 112]        --\n",
      "├─MaxPool2d: 1-4                         [-1, 64, 56, 56]          --\n",
      "├─Sequential: 1-5                        [-1, 256, 56, 56]         --\n",
      "|    └─Bottleneck: 2-1                   [-1, 256, 56, 56]         --\n",
      "|    |    └─Conv2d: 3-1                  [-1, 64, 56, 56]          (4,096)\n",
      "|    |    └─BatchNorm2d: 3-2             [-1, 64, 56, 56]          (128)\n",
      "|    |    └─ReLU: 3-3                    [-1, 64, 56, 56]          --\n",
      "|    |    └─Conv2d: 3-4                  [-1, 64, 56, 56]          (36,864)\n",
      "|    |    └─BatchNorm2d: 3-5             [-1, 64, 56, 56]          (128)\n",
      "|    |    └─ReLU: 3-6                    [-1, 64, 56, 56]          --\n",
      "|    |    └─Conv2d: 3-7                  [-1, 256, 56, 56]         (16,384)\n",
      "|    |    └─BatchNorm2d: 3-8             [-1, 256, 56, 56]         (512)\n",
      "|    |    └─Sequential: 3-9              [-1, 256, 56, 56]         (16,896)\n",
      "|    |    └─ReLU: 3-10                   [-1, 256, 56, 56]         --\n",
      "|    └─Bottleneck: 2-2                   [-1, 256, 56, 56]         --\n",
      "|    |    └─Conv2d: 3-11                 [-1, 64, 56, 56]          (16,384)\n",
      "|    |    └─BatchNorm2d: 3-12            [-1, 64, 56, 56]          (128)\n",
      "|    |    └─ReLU: 3-13                   [-1, 64, 56, 56]          --\n",
      "|    |    └─Conv2d: 3-14                 [-1, 64, 56, 56]          (36,864)\n",
      "|    |    └─BatchNorm2d: 3-15            [-1, 64, 56, 56]          (128)\n",
      "|    |    └─ReLU: 3-16                   [-1, 64, 56, 56]          --\n",
      "|    |    └─Conv2d: 3-17                 [-1, 256, 56, 56]         (16,384)\n",
      "|    |    └─BatchNorm2d: 3-18            [-1, 256, 56, 56]         (512)\n",
      "|    |    └─ReLU: 3-19                   [-1, 256, 56, 56]         --\n",
      "|    └─Bottleneck: 2-3                   [-1, 256, 56, 56]         --\n",
      "|    |    └─Conv2d: 3-20                 [-1, 64, 56, 56]          (16,384)\n",
      "|    |    └─BatchNorm2d: 3-21            [-1, 64, 56, 56]          (128)\n",
      "|    |    └─ReLU: 3-22                   [-1, 64, 56, 56]          --\n",
      "|    |    └─Conv2d: 3-23                 [-1, 64, 56, 56]          (36,864)\n",
      "|    |    └─BatchNorm2d: 3-24            [-1, 64, 56, 56]          (128)\n",
      "|    |    └─ReLU: 3-25                   [-1, 64, 56, 56]          --\n",
      "|    |    └─Conv2d: 3-26                 [-1, 256, 56, 56]         (16,384)\n",
      "|    |    └─BatchNorm2d: 3-27            [-1, 256, 56, 56]         (512)\n",
      "|    |    └─ReLU: 3-28                   [-1, 256, 56, 56]         --\n",
      "├─Sequential: 1-6                        [-1, 512, 28, 28]         --\n",
      "|    └─Bottleneck: 2-4                   [-1, 512, 28, 28]         --\n",
      "|    |    └─Conv2d: 3-29                 [-1, 128, 56, 56]         (32,768)\n",
      "|    |    └─BatchNorm2d: 3-30            [-1, 128, 56, 56]         (256)\n",
      "|    |    └─ReLU: 3-31                   [-1, 128, 56, 56]         --\n",
      "|    |    └─Conv2d: 3-32                 [-1, 128, 28, 28]         (147,456)\n",
      "|    |    └─BatchNorm2d: 3-33            [-1, 128, 28, 28]         (256)\n",
      "|    |    └─ReLU: 3-34                   [-1, 128, 28, 28]         --\n",
      "|    |    └─Conv2d: 3-35                 [-1, 512, 28, 28]         (65,536)\n",
      "|    |    └─BatchNorm2d: 3-36            [-1, 512, 28, 28]         (1,024)\n",
      "|    |    └─Sequential: 3-37             [-1, 512, 28, 28]         (132,096)\n",
      "|    |    └─ReLU: 3-38                   [-1, 512, 28, 28]         --\n",
      "|    └─Bottleneck: 2-5                   [-1, 512, 28, 28]         --\n",
      "|    |    └─Conv2d: 3-39                 [-1, 128, 28, 28]         (65,536)\n",
      "|    |    └─BatchNorm2d: 3-40            [-1, 128, 28, 28]         (256)\n",
      "|    |    └─ReLU: 3-41                   [-1, 128, 28, 28]         --\n",
      "|    |    └─Conv2d: 3-42                 [-1, 128, 28, 28]         (147,456)\n",
      "|    |    └─BatchNorm2d: 3-43            [-1, 128, 28, 28]         (256)\n",
      "|    |    └─ReLU: 3-44                   [-1, 128, 28, 28]         --\n",
      "|    |    └─Conv2d: 3-45                 [-1, 512, 28, 28]         (65,536)\n",
      "|    |    └─BatchNorm2d: 3-46            [-1, 512, 28, 28]         (1,024)\n",
      "|    |    └─ReLU: 3-47                   [-1, 512, 28, 28]         --\n",
      "|    └─Bottleneck: 2-6                   [-1, 512, 28, 28]         --\n",
      "|    |    └─Conv2d: 3-48                 [-1, 128, 28, 28]         (65,536)\n",
      "|    |    └─BatchNorm2d: 3-49            [-1, 128, 28, 28]         (256)\n",
      "|    |    └─ReLU: 3-50                   [-1, 128, 28, 28]         --\n",
      "|    |    └─Conv2d: 3-51                 [-1, 128, 28, 28]         (147,456)\n",
      "|    |    └─BatchNorm2d: 3-52            [-1, 128, 28, 28]         (256)\n",
      "|    |    └─ReLU: 3-53                   [-1, 128, 28, 28]         --\n",
      "|    |    └─Conv2d: 3-54                 [-1, 512, 28, 28]         (65,536)\n",
      "|    |    └─BatchNorm2d: 3-55            [-1, 512, 28, 28]         (1,024)\n",
      "|    |    └─ReLU: 3-56                   [-1, 512, 28, 28]         --\n",
      "|    └─Bottleneck: 2-7                   [-1, 512, 28, 28]         --\n",
      "|    |    └─Conv2d: 3-57                 [-1, 128, 28, 28]         (65,536)\n",
      "|    |    └─BatchNorm2d: 3-58            [-1, 128, 28, 28]         (256)\n",
      "|    |    └─ReLU: 3-59                   [-1, 128, 28, 28]         --\n",
      "|    |    └─Conv2d: 3-60                 [-1, 128, 28, 28]         (147,456)\n",
      "|    |    └─BatchNorm2d: 3-61            [-1, 128, 28, 28]         (256)\n",
      "|    |    └─ReLU: 3-62                   [-1, 128, 28, 28]         --\n",
      "|    |    └─Conv2d: 3-63                 [-1, 512, 28, 28]         (65,536)\n",
      "|    |    └─BatchNorm2d: 3-64            [-1, 512, 28, 28]         (1,024)\n",
      "|    |    └─ReLU: 3-65                   [-1, 512, 28, 28]         --\n",
      "├─Sequential: 1-7                        [-1, 1024, 14, 14]        --\n",
      "|    └─Bottleneck: 2-8                   [-1, 1024, 14, 14]        --\n",
      "|    |    └─Conv2d: 3-66                 [-1, 256, 28, 28]         (131,072)\n",
      "|    |    └─BatchNorm2d: 3-67            [-1, 256, 28, 28]         (512)\n",
      "|    |    └─ReLU: 3-68                   [-1, 256, 28, 28]         --\n",
      "|    |    └─Conv2d: 3-69                 [-1, 256, 14, 14]         (589,824)\n",
      "|    |    └─BatchNorm2d: 3-70            [-1, 256, 14, 14]         (512)\n",
      "|    |    └─ReLU: 3-71                   [-1, 256, 14, 14]         --\n",
      "|    |    └─Conv2d: 3-72                 [-1, 1024, 14, 14]        (262,144)\n",
      "|    |    └─BatchNorm2d: 3-73            [-1, 1024, 14, 14]        (2,048)\n",
      "|    |    └─Sequential: 3-74             [-1, 1024, 14, 14]        (526,336)\n",
      "|    |    └─ReLU: 3-75                   [-1, 1024, 14, 14]        --\n",
      "|    └─Bottleneck: 2-9                   [-1, 1024, 14, 14]        --\n",
      "|    |    └─Conv2d: 3-76                 [-1, 256, 14, 14]         (262,144)\n",
      "|    |    └─BatchNorm2d: 3-77            [-1, 256, 14, 14]         (512)\n",
      "|    |    └─ReLU: 3-78                   [-1, 256, 14, 14]         --\n",
      "|    |    └─Conv2d: 3-79                 [-1, 256, 14, 14]         (589,824)\n",
      "|    |    └─BatchNorm2d: 3-80            [-1, 256, 14, 14]         (512)\n",
      "|    |    └─ReLU: 3-81                   [-1, 256, 14, 14]         --\n",
      "|    |    └─Conv2d: 3-82                 [-1, 1024, 14, 14]        (262,144)\n",
      "|    |    └─BatchNorm2d: 3-83            [-1, 1024, 14, 14]        (2,048)\n",
      "|    |    └─ReLU: 3-84                   [-1, 1024, 14, 14]        --\n",
      "|    └─Bottleneck: 2-10                  [-1, 1024, 14, 14]        --\n",
      "|    |    └─Conv2d: 3-85                 [-1, 256, 14, 14]         (262,144)\n",
      "|    |    └─BatchNorm2d: 3-86            [-1, 256, 14, 14]         (512)\n",
      "|    |    └─ReLU: 3-87                   [-1, 256, 14, 14]         --\n",
      "|    |    └─Conv2d: 3-88                 [-1, 256, 14, 14]         (589,824)\n",
      "|    |    └─BatchNorm2d: 3-89            [-1, 256, 14, 14]         (512)\n",
      "|    |    └─ReLU: 3-90                   [-1, 256, 14, 14]         --\n",
      "|    |    └─Conv2d: 3-91                 [-1, 1024, 14, 14]        (262,144)\n",
      "|    |    └─BatchNorm2d: 3-92            [-1, 1024, 14, 14]        (2,048)\n",
      "|    |    └─ReLU: 3-93                   [-1, 1024, 14, 14]        --\n",
      "|    └─Bottleneck: 2-11                  [-1, 1024, 14, 14]        --\n",
      "|    |    └─Conv2d: 3-94                 [-1, 256, 14, 14]         (262,144)\n",
      "|    |    └─BatchNorm2d: 3-95            [-1, 256, 14, 14]         (512)\n",
      "|    |    └─ReLU: 3-96                   [-1, 256, 14, 14]         --\n",
      "|    |    └─Conv2d: 3-97                 [-1, 256, 14, 14]         (589,824)\n",
      "|    |    └─BatchNorm2d: 3-98            [-1, 256, 14, 14]         (512)\n",
      "|    |    └─ReLU: 3-99                   [-1, 256, 14, 14]         --\n",
      "|    |    └─Conv2d: 3-100                [-1, 1024, 14, 14]        (262,144)\n",
      "|    |    └─BatchNorm2d: 3-101           [-1, 1024, 14, 14]        (2,048)\n",
      "|    |    └─ReLU: 3-102                  [-1, 1024, 14, 14]        --\n",
      "|    └─Bottleneck: 2-12                  [-1, 1024, 14, 14]        --\n",
      "|    |    └─Conv2d: 3-103                [-1, 256, 14, 14]         (262,144)\n",
      "|    |    └─BatchNorm2d: 3-104           [-1, 256, 14, 14]         (512)\n",
      "|    |    └─ReLU: 3-105                  [-1, 256, 14, 14]         --\n",
      "|    |    └─Conv2d: 3-106                [-1, 256, 14, 14]         (589,824)\n",
      "|    |    └─BatchNorm2d: 3-107           [-1, 256, 14, 14]         (512)\n",
      "|    |    └─ReLU: 3-108                  [-1, 256, 14, 14]         --\n",
      "|    |    └─Conv2d: 3-109                [-1, 1024, 14, 14]        (262,144)\n",
      "|    |    └─BatchNorm2d: 3-110           [-1, 1024, 14, 14]        (2,048)\n",
      "|    |    └─ReLU: 3-111                  [-1, 1024, 14, 14]        --\n",
      "|    └─Bottleneck: 2-13                  [-1, 1024, 14, 14]        --\n",
      "|    |    └─Conv2d: 3-112                [-1, 256, 14, 14]         (262,144)\n",
      "|    |    └─BatchNorm2d: 3-113           [-1, 256, 14, 14]         (512)\n",
      "|    |    └─ReLU: 3-114                  [-1, 256, 14, 14]         --\n",
      "|    |    └─Conv2d: 3-115                [-1, 256, 14, 14]         (589,824)\n",
      "|    |    └─BatchNorm2d: 3-116           [-1, 256, 14, 14]         (512)\n",
      "|    |    └─ReLU: 3-117                  [-1, 256, 14, 14]         --\n",
      "|    |    └─Conv2d: 3-118                [-1, 1024, 14, 14]        (262,144)\n",
      "|    |    └─BatchNorm2d: 3-119           [-1, 1024, 14, 14]        (2,048)\n",
      "|    |    └─ReLU: 3-120                  [-1, 1024, 14, 14]        --\n",
      "├─Sequential: 1-8                        [-1, 2048, 7, 7]          --\n",
      "|    └─Bottleneck: 2-14                  [-1, 2048, 7, 7]          --\n",
      "|    |    └─Conv2d: 3-121                [-1, 512, 14, 14]         (524,288)\n",
      "|    |    └─BatchNorm2d: 3-122           [-1, 512, 14, 14]         (1,024)\n",
      "|    |    └─ReLU: 3-123                  [-1, 512, 14, 14]         --\n",
      "|    |    └─Conv2d: 3-124                [-1, 512, 7, 7]           (2,359,296)\n",
      "|    |    └─BatchNorm2d: 3-125           [-1, 512, 7, 7]           (1,024)\n",
      "|    |    └─ReLU: 3-126                  [-1, 512, 7, 7]           --\n",
      "|    |    └─Conv2d: 3-127                [-1, 2048, 7, 7]          (1,048,576)\n",
      "|    |    └─BatchNorm2d: 3-128           [-1, 2048, 7, 7]          (4,096)\n",
      "|    |    └─Sequential: 3-129            [-1, 2048, 7, 7]          (2,101,248)\n",
      "|    |    └─ReLU: 3-130                  [-1, 2048, 7, 7]          --\n",
      "|    └─Bottleneck: 2-15                  [-1, 2048, 7, 7]          --\n",
      "|    |    └─Conv2d: 3-131                [-1, 512, 7, 7]           (1,048,576)\n",
      "|    |    └─BatchNorm2d: 3-132           [-1, 512, 7, 7]           (1,024)\n",
      "|    |    └─ReLU: 3-133                  [-1, 512, 7, 7]           --\n",
      "|    |    └─Conv2d: 3-134                [-1, 512, 7, 7]           (2,359,296)\n",
      "|    |    └─BatchNorm2d: 3-135           [-1, 512, 7, 7]           (1,024)\n",
      "|    |    └─ReLU: 3-136                  [-1, 512, 7, 7]           --\n",
      "|    |    └─Conv2d: 3-137                [-1, 2048, 7, 7]          (1,048,576)\n",
      "|    |    └─BatchNorm2d: 3-138           [-1, 2048, 7, 7]          (4,096)\n",
      "|    |    └─ReLU: 3-139                  [-1, 2048, 7, 7]          --\n",
      "|    └─Bottleneck: 2-16                  [-1, 2048, 7, 7]          --\n",
      "|    |    └─Conv2d: 3-140                [-1, 512, 7, 7]           (1,048,576)\n",
      "|    |    └─BatchNorm2d: 3-141           [-1, 512, 7, 7]           (1,024)\n",
      "|    |    └─ReLU: 3-142                  [-1, 512, 7, 7]           --\n",
      "|    |    └─Conv2d: 3-143                [-1, 512, 7, 7]           (2,359,296)\n",
      "|    |    └─BatchNorm2d: 3-144           [-1, 512, 7, 7]           (1,024)\n",
      "|    |    └─ReLU: 3-145                  [-1, 512, 7, 7]           --\n",
      "|    |    └─Conv2d: 3-146                [-1, 2048, 7, 7]          (1,048,576)\n",
      "|    |    └─BatchNorm2d: 3-147           [-1, 2048, 7, 7]          (4,096)\n",
      "|    |    └─ReLU: 3-148                  [-1, 2048, 7, 7]          --\n",
      "├─AdaptiveAvgPool2d: 1-9                 [-1, 2048, 1, 1]          --\n",
      "├─Linear: 1-10                           [-1, 120]                 245,880\n",
      "==========================================================================================\n",
      "Total params: 23,753,912\n",
      "Trainable params: 245,880\n",
      "Non-trainable params: 23,508,032\n",
      "------------------------------------------------------------------------------------------\n",
      "Input size (MB): 0.57\n",
      "Forward/backward pass size (MB): 169.59\n",
      "Params size (MB): 90.61\n",
      "Estimated Total Size (MB): 260.78\n",
      "------------------------------------------------------------------------------------------\n",
      "\n"
     ]
    },
    {
     "data": {
      "text/plain": [
       "------------------------------------------------------------------------------------------\n",
       "Layer (type:depth-idx)                   Output Shape              Param #\n",
       "==========================================================================================\n",
       "├─Conv2d: 1-1                            [-1, 64, 112, 112]        (9,408)\n",
       "├─BatchNorm2d: 1-2                       [-1, 64, 112, 112]        (128)\n",
       "├─ReLU: 1-3                              [-1, 64, 112, 112]        --\n",
       "├─MaxPool2d: 1-4                         [-1, 64, 56, 56]          --\n",
       "├─Sequential: 1-5                        [-1, 256, 56, 56]         --\n",
       "|    └─Bottleneck: 2-1                   [-1, 256, 56, 56]         --\n",
       "|    |    └─Conv2d: 3-1                  [-1, 64, 56, 56]          (4,096)\n",
       "|    |    └─BatchNorm2d: 3-2             [-1, 64, 56, 56]          (128)\n",
       "|    |    └─ReLU: 3-3                    [-1, 64, 56, 56]          --\n",
       "|    |    └─Conv2d: 3-4                  [-1, 64, 56, 56]          (36,864)\n",
       "|    |    └─BatchNorm2d: 3-5             [-1, 64, 56, 56]          (128)\n",
       "|    |    └─ReLU: 3-6                    [-1, 64, 56, 56]          --\n",
       "|    |    └─Conv2d: 3-7                  [-1, 256, 56, 56]         (16,384)\n",
       "|    |    └─BatchNorm2d: 3-8             [-1, 256, 56, 56]         (512)\n",
       "|    |    └─Sequential: 3-9              [-1, 256, 56, 56]         (16,896)\n",
       "|    |    └─ReLU: 3-10                   [-1, 256, 56, 56]         --\n",
       "|    └─Bottleneck: 2-2                   [-1, 256, 56, 56]         --\n",
       "|    |    └─Conv2d: 3-11                 [-1, 64, 56, 56]          (16,384)\n",
       "|    |    └─BatchNorm2d: 3-12            [-1, 64, 56, 56]          (128)\n",
       "|    |    └─ReLU: 3-13                   [-1, 64, 56, 56]          --\n",
       "|    |    └─Conv2d: 3-14                 [-1, 64, 56, 56]          (36,864)\n",
       "|    |    └─BatchNorm2d: 3-15            [-1, 64, 56, 56]          (128)\n",
       "|    |    └─ReLU: 3-16                   [-1, 64, 56, 56]          --\n",
       "|    |    └─Conv2d: 3-17                 [-1, 256, 56, 56]         (16,384)\n",
       "|    |    └─BatchNorm2d: 3-18            [-1, 256, 56, 56]         (512)\n",
       "|    |    └─ReLU: 3-19                   [-1, 256, 56, 56]         --\n",
       "|    └─Bottleneck: 2-3                   [-1, 256, 56, 56]         --\n",
       "|    |    └─Conv2d: 3-20                 [-1, 64, 56, 56]          (16,384)\n",
       "|    |    └─BatchNorm2d: 3-21            [-1, 64, 56, 56]          (128)\n",
       "|    |    └─ReLU: 3-22                   [-1, 64, 56, 56]          --\n",
       "|    |    └─Conv2d: 3-23                 [-1, 64, 56, 56]          (36,864)\n",
       "|    |    └─BatchNorm2d: 3-24            [-1, 64, 56, 56]          (128)\n",
       "|    |    └─ReLU: 3-25                   [-1, 64, 56, 56]          --\n",
       "|    |    └─Conv2d: 3-26                 [-1, 256, 56, 56]         (16,384)\n",
       "|    |    └─BatchNorm2d: 3-27            [-1, 256, 56, 56]         (512)\n",
       "|    |    └─ReLU: 3-28                   [-1, 256, 56, 56]         --\n",
       "├─Sequential: 1-6                        [-1, 512, 28, 28]         --\n",
       "|    └─Bottleneck: 2-4                   [-1, 512, 28, 28]         --\n",
       "|    |    └─Conv2d: 3-29                 [-1, 128, 56, 56]         (32,768)\n",
       "|    |    └─BatchNorm2d: 3-30            [-1, 128, 56, 56]         (256)\n",
       "|    |    └─ReLU: 3-31                   [-1, 128, 56, 56]         --\n",
       "|    |    └─Conv2d: 3-32                 [-1, 128, 28, 28]         (147,456)\n",
       "|    |    └─BatchNorm2d: 3-33            [-1, 128, 28, 28]         (256)\n",
       "|    |    └─ReLU: 3-34                   [-1, 128, 28, 28]         --\n",
       "|    |    └─Conv2d: 3-35                 [-1, 512, 28, 28]         (65,536)\n",
       "|    |    └─BatchNorm2d: 3-36            [-1, 512, 28, 28]         (1,024)\n",
       "|    |    └─Sequential: 3-37             [-1, 512, 28, 28]         (132,096)\n",
       "|    |    └─ReLU: 3-38                   [-1, 512, 28, 28]         --\n",
       "|    └─Bottleneck: 2-5                   [-1, 512, 28, 28]         --\n",
       "|    |    └─Conv2d: 3-39                 [-1, 128, 28, 28]         (65,536)\n",
       "|    |    └─BatchNorm2d: 3-40            [-1, 128, 28, 28]         (256)\n",
       "|    |    └─ReLU: 3-41                   [-1, 128, 28, 28]         --\n",
       "|    |    └─Conv2d: 3-42                 [-1, 128, 28, 28]         (147,456)\n",
       "|    |    └─BatchNorm2d: 3-43            [-1, 128, 28, 28]         (256)\n",
       "|    |    └─ReLU: 3-44                   [-1, 128, 28, 28]         --\n",
       "|    |    └─Conv2d: 3-45                 [-1, 512, 28, 28]         (65,536)\n",
       "|    |    └─BatchNorm2d: 3-46            [-1, 512, 28, 28]         (1,024)\n",
       "|    |    └─ReLU: 3-47                   [-1, 512, 28, 28]         --\n",
       "|    └─Bottleneck: 2-6                   [-1, 512, 28, 28]         --\n",
       "|    |    └─Conv2d: 3-48                 [-1, 128, 28, 28]         (65,536)\n",
       "|    |    └─BatchNorm2d: 3-49            [-1, 128, 28, 28]         (256)\n",
       "|    |    └─ReLU: 3-50                   [-1, 128, 28, 28]         --\n",
       "|    |    └─Conv2d: 3-51                 [-1, 128, 28, 28]         (147,456)\n",
       "|    |    └─BatchNorm2d: 3-52            [-1, 128, 28, 28]         (256)\n",
       "|    |    └─ReLU: 3-53                   [-1, 128, 28, 28]         --\n",
       "|    |    └─Conv2d: 3-54                 [-1, 512, 28, 28]         (65,536)\n",
       "|    |    └─BatchNorm2d: 3-55            [-1, 512, 28, 28]         (1,024)\n",
       "|    |    └─ReLU: 3-56                   [-1, 512, 28, 28]         --\n",
       "|    └─Bottleneck: 2-7                   [-1, 512, 28, 28]         --\n",
       "|    |    └─Conv2d: 3-57                 [-1, 128, 28, 28]         (65,536)\n",
       "|    |    └─BatchNorm2d: 3-58            [-1, 128, 28, 28]         (256)\n",
       "|    |    └─ReLU: 3-59                   [-1, 128, 28, 28]         --\n",
       "|    |    └─Conv2d: 3-60                 [-1, 128, 28, 28]         (147,456)\n",
       "|    |    └─BatchNorm2d: 3-61            [-1, 128, 28, 28]         (256)\n",
       "|    |    └─ReLU: 3-62                   [-1, 128, 28, 28]         --\n",
       "|    |    └─Conv2d: 3-63                 [-1, 512, 28, 28]         (65,536)\n",
       "|    |    └─BatchNorm2d: 3-64            [-1, 512, 28, 28]         (1,024)\n",
       "|    |    └─ReLU: 3-65                   [-1, 512, 28, 28]         --\n",
       "├─Sequential: 1-7                        [-1, 1024, 14, 14]        --\n",
       "|    └─Bottleneck: 2-8                   [-1, 1024, 14, 14]        --\n",
       "|    |    └─Conv2d: 3-66                 [-1, 256, 28, 28]         (131,072)\n",
       "|    |    └─BatchNorm2d: 3-67            [-1, 256, 28, 28]         (512)\n",
       "|    |    └─ReLU: 3-68                   [-1, 256, 28, 28]         --\n",
       "|    |    └─Conv2d: 3-69                 [-1, 256, 14, 14]         (589,824)\n",
       "|    |    └─BatchNorm2d: 3-70            [-1, 256, 14, 14]         (512)\n",
       "|    |    └─ReLU: 3-71                   [-1, 256, 14, 14]         --\n",
       "|    |    └─Conv2d: 3-72                 [-1, 1024, 14, 14]        (262,144)\n",
       "|    |    └─BatchNorm2d: 3-73            [-1, 1024, 14, 14]        (2,048)\n",
       "|    |    └─Sequential: 3-74             [-1, 1024, 14, 14]        (526,336)\n",
       "|    |    └─ReLU: 3-75                   [-1, 1024, 14, 14]        --\n",
       "|    └─Bottleneck: 2-9                   [-1, 1024, 14, 14]        --\n",
       "|    |    └─Conv2d: 3-76                 [-1, 256, 14, 14]         (262,144)\n",
       "|    |    └─BatchNorm2d: 3-77            [-1, 256, 14, 14]         (512)\n",
       "|    |    └─ReLU: 3-78                   [-1, 256, 14, 14]         --\n",
       "|    |    └─Conv2d: 3-79                 [-1, 256, 14, 14]         (589,824)\n",
       "|    |    └─BatchNorm2d: 3-80            [-1, 256, 14, 14]         (512)\n",
       "|    |    └─ReLU: 3-81                   [-1, 256, 14, 14]         --\n",
       "|    |    └─Conv2d: 3-82                 [-1, 1024, 14, 14]        (262,144)\n",
       "|    |    └─BatchNorm2d: 3-83            [-1, 1024, 14, 14]        (2,048)\n",
       "|    |    └─ReLU: 3-84                   [-1, 1024, 14, 14]        --\n",
       "|    └─Bottleneck: 2-10                  [-1, 1024, 14, 14]        --\n",
       "|    |    └─Conv2d: 3-85                 [-1, 256, 14, 14]         (262,144)\n",
       "|    |    └─BatchNorm2d: 3-86            [-1, 256, 14, 14]         (512)\n",
       "|    |    └─ReLU: 3-87                   [-1, 256, 14, 14]         --\n",
       "|    |    └─Conv2d: 3-88                 [-1, 256, 14, 14]         (589,824)\n",
       "|    |    └─BatchNorm2d: 3-89            [-1, 256, 14, 14]         (512)\n",
       "|    |    └─ReLU: 3-90                   [-1, 256, 14, 14]         --\n",
       "|    |    └─Conv2d: 3-91                 [-1, 1024, 14, 14]        (262,144)\n",
       "|    |    └─BatchNorm2d: 3-92            [-1, 1024, 14, 14]        (2,048)\n",
       "|    |    └─ReLU: 3-93                   [-1, 1024, 14, 14]        --\n",
       "|    └─Bottleneck: 2-11                  [-1, 1024, 14, 14]        --\n",
       "|    |    └─Conv2d: 3-94                 [-1, 256, 14, 14]         (262,144)\n",
       "|    |    └─BatchNorm2d: 3-95            [-1, 256, 14, 14]         (512)\n",
       "|    |    └─ReLU: 3-96                   [-1, 256, 14, 14]         --\n",
       "|    |    └─Conv2d: 3-97                 [-1, 256, 14, 14]         (589,824)\n",
       "|    |    └─BatchNorm2d: 3-98            [-1, 256, 14, 14]         (512)\n",
       "|    |    └─ReLU: 3-99                   [-1, 256, 14, 14]         --\n",
       "|    |    └─Conv2d: 3-100                [-1, 1024, 14, 14]        (262,144)\n",
       "|    |    └─BatchNorm2d: 3-101           [-1, 1024, 14, 14]        (2,048)\n",
       "|    |    └─ReLU: 3-102                  [-1, 1024, 14, 14]        --\n",
       "|    └─Bottleneck: 2-12                  [-1, 1024, 14, 14]        --\n",
       "|    |    └─Conv2d: 3-103                [-1, 256, 14, 14]         (262,144)\n",
       "|    |    └─BatchNorm2d: 3-104           [-1, 256, 14, 14]         (512)\n",
       "|    |    └─ReLU: 3-105                  [-1, 256, 14, 14]         --\n",
       "|    |    └─Conv2d: 3-106                [-1, 256, 14, 14]         (589,824)\n",
       "|    |    └─BatchNorm2d: 3-107           [-1, 256, 14, 14]         (512)\n",
       "|    |    └─ReLU: 3-108                  [-1, 256, 14, 14]         --\n",
       "|    |    └─Conv2d: 3-109                [-1, 1024, 14, 14]        (262,144)\n",
       "|    |    └─BatchNorm2d: 3-110           [-1, 1024, 14, 14]        (2,048)\n",
       "|    |    └─ReLU: 3-111                  [-1, 1024, 14, 14]        --\n",
       "|    └─Bottleneck: 2-13                  [-1, 1024, 14, 14]        --\n",
       "|    |    └─Conv2d: 3-112                [-1, 256, 14, 14]         (262,144)\n",
       "|    |    └─BatchNorm2d: 3-113           [-1, 256, 14, 14]         (512)\n",
       "|    |    └─ReLU: 3-114                  [-1, 256, 14, 14]         --\n",
       "|    |    └─Conv2d: 3-115                [-1, 256, 14, 14]         (589,824)\n",
       "|    |    └─BatchNorm2d: 3-116           [-1, 256, 14, 14]         (512)\n",
       "|    |    └─ReLU: 3-117                  [-1, 256, 14, 14]         --\n",
       "|    |    └─Conv2d: 3-118                [-1, 1024, 14, 14]        (262,144)\n",
       "|    |    └─BatchNorm2d: 3-119           [-1, 1024, 14, 14]        (2,048)\n",
       "|    |    └─ReLU: 3-120                  [-1, 1024, 14, 14]        --\n",
       "├─Sequential: 1-8                        [-1, 2048, 7, 7]          --\n",
       "|    └─Bottleneck: 2-14                  [-1, 2048, 7, 7]          --\n",
       "|    |    └─Conv2d: 3-121                [-1, 512, 14, 14]         (524,288)\n",
       "|    |    └─BatchNorm2d: 3-122           [-1, 512, 14, 14]         (1,024)\n",
       "|    |    └─ReLU: 3-123                  [-1, 512, 14, 14]         --\n",
       "|    |    └─Conv2d: 3-124                [-1, 512, 7, 7]           (2,359,296)\n",
       "|    |    └─BatchNorm2d: 3-125           [-1, 512, 7, 7]           (1,024)\n",
       "|    |    └─ReLU: 3-126                  [-1, 512, 7, 7]           --\n",
       "|    |    └─Conv2d: 3-127                [-1, 2048, 7, 7]          (1,048,576)\n",
       "|    |    └─BatchNorm2d: 3-128           [-1, 2048, 7, 7]          (4,096)\n",
       "|    |    └─Sequential: 3-129            [-1, 2048, 7, 7]          (2,101,248)\n",
       "|    |    └─ReLU: 3-130                  [-1, 2048, 7, 7]          --\n",
       "|    └─Bottleneck: 2-15                  [-1, 2048, 7, 7]          --\n",
       "|    |    └─Conv2d: 3-131                [-1, 512, 7, 7]           (1,048,576)\n",
       "|    |    └─BatchNorm2d: 3-132           [-1, 512, 7, 7]           (1,024)\n",
       "|    |    └─ReLU: 3-133                  [-1, 512, 7, 7]           --\n",
       "|    |    └─Conv2d: 3-134                [-1, 512, 7, 7]           (2,359,296)\n",
       "|    |    └─BatchNorm2d: 3-135           [-1, 512, 7, 7]           (1,024)\n",
       "|    |    └─ReLU: 3-136                  [-1, 512, 7, 7]           --\n",
       "|    |    └─Conv2d: 3-137                [-1, 2048, 7, 7]          (1,048,576)\n",
       "|    |    └─BatchNorm2d: 3-138           [-1, 2048, 7, 7]          (4,096)\n",
       "|    |    └─ReLU: 3-139                  [-1, 2048, 7, 7]          --\n",
       "|    └─Bottleneck: 2-16                  [-1, 2048, 7, 7]          --\n",
       "|    |    └─Conv2d: 3-140                [-1, 512, 7, 7]           (1,048,576)\n",
       "|    |    └─BatchNorm2d: 3-141           [-1, 512, 7, 7]           (1,024)\n",
       "|    |    └─ReLU: 3-142                  [-1, 512, 7, 7]           --\n",
       "|    |    └─Conv2d: 3-143                [-1, 512, 7, 7]           (2,359,296)\n",
       "|    |    └─BatchNorm2d: 3-144           [-1, 512, 7, 7]           (1,024)\n",
       "|    |    └─ReLU: 3-145                  [-1, 512, 7, 7]           --\n",
       "|    |    └─Conv2d: 3-146                [-1, 2048, 7, 7]          (1,048,576)\n",
       "|    |    └─BatchNorm2d: 3-147           [-1, 2048, 7, 7]          (4,096)\n",
       "|    |    └─ReLU: 3-148                  [-1, 2048, 7, 7]          --\n",
       "├─AdaptiveAvgPool2d: 1-9                 [-1, 2048, 1, 1]          --\n",
       "├─Linear: 1-10                           [-1, 120]                 245,880\n",
       "==========================================================================================\n",
       "Total params: 23,753,912\n",
       "Trainable params: 245,880\n",
       "Non-trainable params: 23,508,032\n",
       "------------------------------------------------------------------------------------------\n",
       "Input size (MB): 0.57\n",
       "Forward/backward pass size (MB): 169.59\n",
       "Params size (MB): 90.61\n",
       "Estimated Total Size (MB): 260.78\n",
       "------------------------------------------------------------------------------------------"
      ]
     },
     "execution_count": 161,
     "metadata": {},
     "output_type": "execute_result"
    }
   ],
   "source": [
    "summary(pretrained_model, input_data=(3,IMAGE_WIDTH, IMAGE_LENGTH))"
   ]
  },
  {
   "cell_type": "code",
   "execution_count": 162,
   "metadata": {},
   "outputs": [],
   "source": [
    "if PARAMS[\"optimizer\"]==\"sgd\":\n",
    "    optimizer = optim.SGD(model.parameters(), lr=PARAMS[\"learning_rate\"], momentum=PARAMS[\"momentum\"])\n",
    "elif PARAMS[\"optimizer\"]==\"adam\":\n",
    "    optimizer = optim.Adam(model.parameters(), lr=PARAMS[\"learning_rate\"])\n",
    "else:\n",
    "    raise Exception('No defined optimzer')"
   ]
  },
  {
   "cell_type": "code",
   "execution_count": 163,
   "metadata": {},
   "outputs": [],
   "source": [
    "exp_lr_scheduler = optim.lr_scheduler.StepLR(optimizer, step_size=4, gamma=0.08)"
   ]
  },
  {
   "cell_type": "code",
   "execution_count": 164,
   "metadata": {},
   "outputs": [],
   "source": [
    "class EarlyStopping(object):\n",
    "    def __init__(self, mode='max', min_delta=0, patience=3, percentage=False):\n",
    "        self.mode = mode\n",
    "        self.min_delta = min_delta\n",
    "        self.patience = patience\n",
    "        self.best = None\n",
    "        self.num_bad_epochs = 0\n",
    "        self.is_better = None\n",
    "        self._init_is_better(mode, min_delta, percentage)\n",
    "\n",
    "        if patience == 0:\n",
    "            self.is_better = lambda a, b: True\n",
    "            self.step = lambda a: False\n",
    "\n",
    "    def step(self, metrics):\n",
    "        # This is for the first round, before we have best\n",
    "        if self.best is None:\n",
    "            self.best = metrics\n",
    "            return False\n",
    "        # This is in case we have nan (for example if it explodes)\n",
    "        if torch.isnan(metrics):\n",
    "            return True\n",
    "        # Standard - if metrics is better than the best, it zeros (start over)\n",
    "        if self.is_better(metrics, self.best):\n",
    "            self.num_bad_epochs = 0\n",
    "            self.best = metrics\n",
    "        # Else, start counting till patience\n",
    "        else:\n",
    "            self.num_bad_epochs += 1\n",
    "            print(\"Bad epochs:\", self.num_bad_epochs)\n",
    "        # If num_bad_epochs equals patience, stop (True)\n",
    "        if self.num_bad_epochs >= self.patience:\n",
    "            print(\"Terminate\")\n",
    "            return True\n",
    "        \n",
    "\n",
    "        return False\n",
    "\n",
    "    def _init_is_better(self, mode, min_delta, percentage):\n",
    "        if mode not in {'min', 'max'}:\n",
    "            raise ValueError('mode ' + mode + ' is unknown!')\n",
    "        if not percentage:\n",
    "            if mode == 'min':\n",
    "                self.is_better = lambda a, best: a < best - min_delta\n",
    "            if mode == 'max':\n",
    "                self.is_better = lambda a, best: a > best + min_delta\n",
    "        else:\n",
    "            if mode == 'min':\n",
    "                self.is_better = lambda a, best: a < best - (\n",
    "                            best * min_delta / 100)\n",
    "            if mode == 'max':\n",
    "                self.is_better = lambda a, best: a > best + (\n",
    "                            best * min_delta / 100)"
   ]
  },
  {
   "cell_type": "code",
   "execution_count": 165,
   "metadata": {},
   "outputs": [],
   "source": [
    "es = EarlyStopping(patience=4)"
   ]
  },
  {
   "cell_type": "code",
   "execution_count": 166,
   "metadata": {},
   "outputs": [],
   "source": [
    "def train(model, optimizer, scheduler, epoch=1, log_interval=50):\n",
    "    model.train()  # set training mode\n",
    "    iteration = 0\n",
    "    \n",
    "    for ep in range(epoch):\n",
    "        print(\"epoch {}\".format(ep))\n",
    "        print(\"========\")\n",
    "        for batch_idx, (data, target) in enumerate(train_loader):\n",
    "            # bring data to the computing device, e.g. GPU\n",
    "            data, target = data.to(device), target.to(device)\n",
    "\n",
    "            # forward pass\n",
    "            output = model(data)\n",
    "            #print(\"output\", output.size())\n",
    "            #print(\"target\", target.size())\n",
    "            # compute loss\n",
    "            loss = F.cross_entropy(output, target)\n",
    "            \n",
    "            # Clear all accumulated gradients\n",
    "            optimizer.zero_grad()\n",
    "            \n",
    "            # This is the backwards pass: compute the gradient of the loss with\n",
    "            # respect to each  parameter of the model.\n",
    "            loss.backward()\n",
    "\n",
    "            # Actually update the parameters of the model using the gradients\n",
    "            # computed by the backwards pass.\n",
    "            optimizer.step()\n",
    "            neptune.log_metric('batch_loss', loss.item())\n",
    "            \n",
    "#             if batch_idx % log_interval == 0:\n",
    "#                 print('Iteration %d, loss = %.4f' % (batch_idx, loss.item()))\n",
    "#                 test_acc = test(eval_loader, model)\n",
    "#                 neptune.log_metric(\"batch_test_acc\", test_acc)\n",
    "#                 train_acc = test(train_loader, model, set_=\"train\")\n",
    "#                 neptune.log_metric(\"batch_train_acc\", train_acc)\n",
    "#                 print()\n",
    "        # Since it takes a lot of time, I calculate only at epoc end        \n",
    "        test_acc = test(eval_loader, model)\n",
    "        train_acc = test(train_loader, model, set_=\"train\")\n",
    "        neptune.log_metric('loss', loss.item())\n",
    "        neptune.log_metric('test_acc', test_acc)\n",
    "        neptune.log_metric('train_acc', train_acc)\n",
    "        \n",
    "        # Decrease lr\n",
    "        scheduler.step()\n",
    "        \n",
    "        # Saving checkpoing (first to local machine and then to neptune)\n",
    "        torch.save(model.state_dict(),CHECKPOINTS_DIR+\"/epoch_{}\".format(ep))\n",
    "        neptune.log_artifact(CHECKPOINTS_DIR+\"/epoch_{}\".format(ep))\n",
    "        \n",
    "        if es.step(torch.tensor(test_acc)):\n",
    "            break  # early stop criterion is met, we can stop now"
   ]
  },
  {
   "cell_type": "code",
   "execution_count": 167,
   "metadata": {},
   "outputs": [],
   "source": [
    "def test(loader, model, set_='eval'):\n",
    "    model.eval()  # set evaluation mode\n",
    "    num_correct = 0\n",
    "    num_samples = 0\n",
    "    test_loss = 0\n",
    "    with torch.no_grad():\n",
    "        for data, target in loader:\n",
    "            data, target = data.to(device), target.to(device)\n",
    "            output = model(data)\n",
    "            _, preds = output.max(1) # , keepdim=True)[1]\n",
    "            num_correct += (preds == target).sum()\n",
    "            num_samples += preds.size(0)\n",
    "            \n",
    "            test_loss += F.cross_entropy(output, target, size_average=False).item() # sum up batch loss\n",
    "        acc = float(num_correct) / num_samples\n",
    "        print('{} Got {} / {} correct {:.2f}%'.format(set_, num_correct, num_samples, 100 * acc))\n",
    "    test_loss /= len(loader.dataset)\n",
    "    \n",
    "    return acc"
   ]
  },
  {
   "cell_type": "code",
   "execution_count": 168,
   "metadata": {},
   "outputs": [
    {
     "name": "stdout",
     "output_type": "stream",
     "text": [
      "epoch 0\n",
      "========\n",
      "eval Got 3215 / 4117 correct 78.09%\n",
      "train Got 11830 / 14405 correct 82.12%\n",
      "epoch 1\n",
      "========\n",
      "eval Got 3355 / 4117 correct 81.49%\n",
      "train Got 12542 / 14405 correct 87.07%\n",
      "epoch 2\n",
      "========\n",
      "eval Got 3369 / 4117 correct 81.83%\n",
      "train Got 12719 / 14405 correct 88.30%\n",
      "epoch 3\n",
      "========\n",
      "eval Got 3386 / 4117 correct 82.24%\n",
      "train Got 12942 / 14405 correct 89.84%\n",
      "epoch 4\n",
      "========\n",
      "eval Got 3448 / 4117 correct 83.75%\n",
      "train Got 13224 / 14405 correct 91.80%\n",
      "epoch 5\n",
      "========\n",
      "eval Got 3463 / 4117 correct 84.11%\n",
      "train Got 13222 / 14405 correct 91.79%\n",
      "epoch 6\n",
      "========\n",
      "eval Got 3441 / 4117 correct 83.58%\n",
      "train Got 13275 / 14405 correct 92.16%\n",
      "Bad epochs: 1\n",
      "epoch 7\n",
      "========\n",
      "eval Got 3447 / 4117 correct 83.73%\n",
      "train Got 13320 / 14405 correct 92.47%\n",
      "Bad epochs: 2\n",
      "epoch 8\n",
      "========\n",
      "eval Got 3455 / 4117 correct 83.92%\n",
      "train Got 13286 / 14405 correct 92.23%\n",
      "Bad epochs: 3\n",
      "epoch 9\n",
      "========\n",
      "eval Got 3453 / 4117 correct 83.87%\n",
      "train Got 13280 / 14405 correct 92.19%\n",
      "Bad epochs: 4\n",
      "Terminate\n"
     ]
    }
   ],
   "source": [
    "train(model, optimizer, exp_lr_scheduler, epoch=PARAMS[\"n_epoch\"])"
   ]
  },
  {
   "cell_type": "code",
   "execution_count": 169,
   "metadata": {},
   "outputs": [],
   "source": [
    "neptune.stop()"
   ]
  },
  {
   "cell_type": "markdown",
   "metadata": {},
   "source": [
    "## Try predicting on one image"
   ]
  },
  {
   "cell_type": "markdown",
   "metadata": {},
   "source": [
    "Details about Varaible: https://jhui.github.io/2018/02/09/PyTorch-Variables-functionals-and-Autograd/"
   ]
  },
  {
   "cell_type": "code",
   "execution_count": 77,
   "metadata": {},
   "outputs": [],
   "source": [
    "from torch.autograd import Variable"
   ]
  },
  {
   "cell_type": "code",
   "execution_count": 89,
   "metadata": {},
   "outputs": [],
   "source": [
    "# image_path = '/home/ishay_telavivi/data/Images/n02085620-Chihuahua/n02085620_1073.jpg'\n",
    "image_path = '/home/ishay_telavivi/data/Images/n02106030-collie/n02106030_7977.jpg'"
   ]
  },
  {
   "cell_type": "code",
   "execution_count": 90,
   "metadata": {},
   "outputs": [],
   "source": [
    "trasformer = transform[\"eval\"]"
   ]
  },
  {
   "cell_type": "code",
   "execution_count": 91,
   "metadata": {},
   "outputs": [],
   "source": [
    "def predict_image_path(path, transformer, model, image_width=IMAGE_WIDTH, image_length=IMAGE_LENGTH):\n",
    "    \"\"\"\n",
    "    Receives an image path and returns the class (breed)\n",
    "    \"\"\"\n",
    "    \n",
    "    image = Image.open(path)\n",
    "    trans_image = transformer(image).float()\n",
    "    image_var = Variable(trans_image, requires_grad=True)\n",
    "    image_for_pred = image_var.view(1,3,image_width,image_length)\n",
    "    image_for_pred_to_device = image_for_pred.to(device)\n",
    "    \n",
    "    model.eval()\n",
    "    output = model(image_for_pred_to_device)\n",
    "    \n",
    "    indices = torch.argmax(output, 1)\n",
    "    breed = test_loader.dataset.classes[indices]\n",
    "    \n",
    "    return breed"
   ]
  },
  {
   "cell_type": "code",
   "execution_count": 92,
   "metadata": {},
   "outputs": [
    {
     "data": {
      "text/plain": [
       "'n02106030-collie'"
      ]
     },
     "execution_count": 92,
     "metadata": {},
     "output_type": "execute_result"
    }
   ],
   "source": [
    "predict_image_path(image_path,\n",
    "                  trasformer,\n",
    "                  model)"
   ]
  },
  {
   "cell_type": "code",
   "execution_count": null,
   "metadata": {},
   "outputs": [],
   "source": []
  }
 ],
 "metadata": {
  "kernelspec": {
   "display_name": "Python 3",
   "language": "python",
   "name": "python3"
  },
  "language_info": {
   "codemirror_mode": {
    "name": "ipython",
    "version": 3
   },
   "file_extension": ".py",
   "mimetype": "text/x-python",
   "name": "python",
   "nbconvert_exporter": "python",
   "pygments_lexer": "ipython3",
   "version": "3.7.3"
  },
  "neptune": {
   "notebookId": "9409ab0f-bf28-4fc1-a7fc-3a248acbd4cf"
  }
 },
 "nbformat": 4,
 "nbformat_minor": 2
}
